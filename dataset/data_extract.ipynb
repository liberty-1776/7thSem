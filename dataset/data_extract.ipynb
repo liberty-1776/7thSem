{
 "cells": [
  {
   "cell_type": "code",
   "execution_count": 8,
   "id": "2a438d8e",
   "metadata": {},
   "outputs": [],
   "source": [
    "import json\n",
    "import csv\n",
    "text_values = []"
   ]
  },
  {
   "cell_type": "code",
   "execution_count": 78,
   "id": "f8b64411",
   "metadata": {},
   "outputs": [],
   "source": [
    "with open('syntactic_jsonl_datasets/lince_lid/Hinglish/dev.jsonl', 'r', encoding='utf-8') as json_file:\n",
    "    data = json_file.readlines()\n",
    "\n",
    "for line in data:\n",
    "    json_obj = json.loads(line)\n",
    "    text_value = json_obj.get('text', '')\n",
    "    text_values.append(text_value)"
   ]
  },
  {
   "cell_type": "code",
   "execution_count": 79,
   "id": "a3e0a2a4",
   "metadata": {},
   "outputs": [
    {
     "data": {
      "text/plain": [
       "82862"
      ]
     },
     "execution_count": 79,
     "metadata": {},
     "output_type": "execute_result"
    }
   ],
   "source": [
    "len(text_values)"
   ]
  },
  {
   "cell_type": "code",
   "execution_count": 80,
   "id": "52b26d97",
   "metadata": {},
   "outputs": [],
   "source": [
    "csv_file_path = ''\n",
    "\n",
    "with open(csv_file_path, 'w', newline='', encoding='utf-8') as csv_file:\n",
    "    csv_writer = csv.writer(csv_file)\n",
    "    csv_writer.writerow(['Text'])\n",
    "    csv_writer.writerows(zip(text_values))"
   ]
  },
  {
   "cell_type": "code",
   "execution_count": null,
   "id": "5198e4f3",
   "metadata": {},
   "outputs": [],
   "source": []
  }
 ],
 "metadata": {
  "kernelspec": {
   "display_name": "Python 3 (ipykernel)",
   "language": "python",
   "name": "python3"
  },
  "language_info": {
   "codemirror_mode": {
    "name": "ipython",
    "version": 3
   },
   "file_extension": ".py",
   "mimetype": "text/x-python",
   "name": "python",
   "nbconvert_exporter": "python",
   "pygments_lexer": "ipython3",
   "version": "3.10.0"
  }
 },
 "nbformat": 4,
 "nbformat_minor": 5
}
